{
 "metadata": {
  "language_info": {
   "codemirror_mode": {
    "name": "ipython",
    "version": 3
   },
   "file_extension": ".py",
   "mimetype": "text/x-python",
   "name": "python",
   "nbconvert_exporter": "python",
   "pygments_lexer": "ipython3",
   "version": "3.8.8"
  },
  "orig_nbformat": 2,
  "kernelspec": {
   "name": "python388jvsc74a57bd04ea7e0a8f9b7ba2be2d1295d07600a24052354a084f46d950320381593507ed8",
   "display_name": "Python 3.8.8 64-bit ('raymonlib': conda)"
  }
 },
 "nbformat": 4,
 "nbformat_minor": 2,
 "cells": [
  {
   "source": [
    "# Building and using Profiles for structured data\n",
    "This tutorial uses the Ames Housing dataset: https://www.kaggle.com/c/house-prices-advanced-regression-techniques/overview\n",
    "\n",
    "Note that some outputs may not be work when viewing on Github since they are shown in an iframe. We recommend to clone this repo and execute the notebooks locally."
   ],
   "cell_type": "markdown",
   "metadata": {}
  },
  {
   "cell_type": "code",
   "execution_count": 1,
   "metadata": {},
   "outputs": [],
   "source": [
    "%load_ext autoreload\n",
    "%autoreload 2\n",
    "import pandas as pd"
   ]
  },
  {
   "source": [
    "Let's start by reading a subset of the dataset. This subset just happens to mostly contain houses on the cheaper end of the price spectrum, which will come in handy later.\n",
    "\n",
    "See the file `./data_sample/houseprices/data_description.txt` for an explanation of what the features mean. For now, it's just important to know that this is a dataset that contains both numerical and categorial features."
   ],
   "cell_type": "markdown",
   "metadata": {}
  },
  {
   "cell_type": "code",
   "execution_count": 2,
   "metadata": {},
   "outputs": [
    {
     "output_type": "execute_result",
     "data": {
      "text/plain": [
       "   MSSubClass MSZoning  LotFrontage  LotArea Street Alley LotShape  \\\n",
       "0          70       RL         60.0     9550   Pave   NaN      IR1   \n",
       "1          50       RL         85.0    14115   Pave   NaN      IR1   \n",
       "2          50       RM         51.0     6120   Pave   NaN      Reg   \n",
       "3         190       RL         50.0     7420   Pave   NaN      Reg   \n",
       "4          20       RL         70.0    11200   Pave   NaN      Reg   \n",
       "\n",
       "  LandContour Utilities LotConfig  ... PoolArea PoolQC  Fence MiscFeature  \\\n",
       "0         Lvl    AllPub    Corner  ...        0    NaN    NaN         NaN   \n",
       "1         Lvl    AllPub    Inside  ...        0    NaN  MnPrv        Shed   \n",
       "2         Lvl    AllPub    Inside  ...        0    NaN    NaN         NaN   \n",
       "3         Lvl    AllPub    Corner  ...        0    NaN    NaN         NaN   \n",
       "4         Lvl    AllPub    Inside  ...        0    NaN    NaN         NaN   \n",
       "\n",
       "  MiscVal MoSold  YrSold  SaleType  SaleCondition  SalePrice  \n",
       "0       0      2    2006        WD        Abnorml     140000  \n",
       "1     700     10    2009        WD         Normal     143000  \n",
       "2       0      4    2008        WD        Abnorml     129900  \n",
       "3       0      1    2008        WD         Normal     118000  \n",
       "4       0      2    2008        WD         Normal     129500  \n",
       "\n",
       "[5 rows x 80 columns]"
      ],
      "text/html": "<div>\n<style scoped>\n    .dataframe tbody tr th:only-of-type {\n        vertical-align: middle;\n    }\n\n    .dataframe tbody tr th {\n        vertical-align: top;\n    }\n\n    .dataframe thead th {\n        text-align: right;\n    }\n</style>\n<table border=\"1\" class=\"dataframe\">\n  <thead>\n    <tr style=\"text-align: right;\">\n      <th></th>\n      <th>MSSubClass</th>\n      <th>MSZoning</th>\n      <th>LotFrontage</th>\n      <th>LotArea</th>\n      <th>Street</th>\n      <th>Alley</th>\n      <th>LotShape</th>\n      <th>LandContour</th>\n      <th>Utilities</th>\n      <th>LotConfig</th>\n      <th>...</th>\n      <th>PoolArea</th>\n      <th>PoolQC</th>\n      <th>Fence</th>\n      <th>MiscFeature</th>\n      <th>MiscVal</th>\n      <th>MoSold</th>\n      <th>YrSold</th>\n      <th>SaleType</th>\n      <th>SaleCondition</th>\n      <th>SalePrice</th>\n    </tr>\n  </thead>\n  <tbody>\n    <tr>\n      <th>0</th>\n      <td>70</td>\n      <td>RL</td>\n      <td>60.0</td>\n      <td>9550</td>\n      <td>Pave</td>\n      <td>NaN</td>\n      <td>IR1</td>\n      <td>Lvl</td>\n      <td>AllPub</td>\n      <td>Corner</td>\n      <td>...</td>\n      <td>0</td>\n      <td>NaN</td>\n      <td>NaN</td>\n      <td>NaN</td>\n      <td>0</td>\n      <td>2</td>\n      <td>2006</td>\n      <td>WD</td>\n      <td>Abnorml</td>\n      <td>140000</td>\n    </tr>\n    <tr>\n      <th>1</th>\n      <td>50</td>\n      <td>RL</td>\n      <td>85.0</td>\n      <td>14115</td>\n      <td>Pave</td>\n      <td>NaN</td>\n      <td>IR1</td>\n      <td>Lvl</td>\n      <td>AllPub</td>\n      <td>Inside</td>\n      <td>...</td>\n      <td>0</td>\n      <td>NaN</td>\n      <td>MnPrv</td>\n      <td>Shed</td>\n      <td>700</td>\n      <td>10</td>\n      <td>2009</td>\n      <td>WD</td>\n      <td>Normal</td>\n      <td>143000</td>\n    </tr>\n    <tr>\n      <th>2</th>\n      <td>50</td>\n      <td>RM</td>\n      <td>51.0</td>\n      <td>6120</td>\n      <td>Pave</td>\n      <td>NaN</td>\n      <td>Reg</td>\n      <td>Lvl</td>\n      <td>AllPub</td>\n      <td>Inside</td>\n      <td>...</td>\n      <td>0</td>\n      <td>NaN</td>\n      <td>NaN</td>\n      <td>NaN</td>\n      <td>0</td>\n      <td>4</td>\n      <td>2008</td>\n      <td>WD</td>\n      <td>Abnorml</td>\n      <td>129900</td>\n    </tr>\n    <tr>\n      <th>3</th>\n      <td>190</td>\n      <td>RL</td>\n      <td>50.0</td>\n      <td>7420</td>\n      <td>Pave</td>\n      <td>NaN</td>\n      <td>Reg</td>\n      <td>Lvl</td>\n      <td>AllPub</td>\n      <td>Corner</td>\n      <td>...</td>\n      <td>0</td>\n      <td>NaN</td>\n      <td>NaN</td>\n      <td>NaN</td>\n      <td>0</td>\n      <td>1</td>\n      <td>2008</td>\n      <td>WD</td>\n      <td>Normal</td>\n      <td>118000</td>\n    </tr>\n    <tr>\n      <th>4</th>\n      <td>20</td>\n      <td>RL</td>\n      <td>70.0</td>\n      <td>11200</td>\n      <td>Pave</td>\n      <td>NaN</td>\n      <td>Reg</td>\n      <td>Lvl</td>\n      <td>AllPub</td>\n      <td>Inside</td>\n      <td>...</td>\n      <td>0</td>\n      <td>NaN</td>\n      <td>NaN</td>\n      <td>NaN</td>\n      <td>0</td>\n      <td>2</td>\n      <td>2008</td>\n      <td>WD</td>\n      <td>Normal</td>\n      <td>129500</td>\n    </tr>\n  </tbody>\n</table>\n<p>5 rows × 80 columns</p>\n</div>"
     },
     "metadata": {},
     "execution_count": 2
    }
   ],
   "source": [
    "DATA_PATH = \"./data_sample/houseprices/subset-cheap.csv\"\n",
    "all_data = pd.read_csv(DATA_PATH).drop(\"Id\", axis=\"columns\")\n",
    "all_data.head(5)"
   ]
  },
  {
   "source": [
    "## The cumbersome way\n",
    "One (cumbersome) way to define a Profile for this dataframe is by specifying all features to be tracked manually. This is shown below for some features."
   ],
   "cell_type": "markdown",
   "metadata": {}
  },
  {
   "cell_type": "code",
   "execution_count": 3,
   "metadata": {},
   "outputs": [
    {
     "output_type": "stream",
     "name": "stdout",
     "text": [
      "ModelProfile(name=\"manually-defined\", version=\"0.0.1\"\n"
     ]
    },
    {
     "output_type": "execute_result",
     "data": {
      "text/plain": [
       "{'mssubclass': IntComponent(name=mssubclass, extractor=ElementExtractor(element=MSSubClass)),\n",
       " 'mszoning': CategoricComponent(name=mszoning, extractor=ElementExtractor(element=MSZoning)),\n",
       " 'lotfrontage': FloatComponent(name=lotfrontage, extractor=ElementExtractor(element=LotFrontage))}"
      ]
     },
     "metadata": {},
     "execution_count": 3
    }
   ],
   "source": [
    "from raymon import ModelProfile\n",
    "from raymon.profiling.extractors.structured import ElementExtractor\n",
    "from raymon import CategoricComponent, IntComponent, FloatComponent\n",
    "\n",
    "profile_manual = ModelProfile(\n",
    "    # A schema needs a name and version\n",
    "    name=\"manually-defined\", \n",
    "    version=\"0.0.1\", \n",
    "    # Now, we specify the features we want to track.\n",
    "    input_components=[\n",
    "        IntComponent(name=\"MSSubClass\", extractor=ElementExtractor(\"MSSubClass\")),\n",
    "        CategoricComponent(name=\"MSZoning\", extractor=ElementExtractor(\"MSZoning\")),\n",
    "        FloatComponent(name=\"LotFrontage\", extractor=ElementExtractor(\"LotFrontage\")),\n",
    "    ])\n",
    "print(profile_manual)\n",
    "profile_manual.input_components"
   ]
  },
  {
   "source": [
    "## Simplified way\n",
    "Since we simply want to extract every single feature from a feature vector in this case, the above seems needlessly cumbersome for a dataframe with 80 columns. Therefore, you can use the `construct_features` function, a shown below.\n",
    "\n",
    "If you'd want to extract another kind of feature too, like a one-hot check or a subvector norm check, you could combine both approaches into one list before passing it to the schema constructor. "
   ],
   "cell_type": "markdown",
   "metadata": {}
  },
  {
   "cell_type": "code",
   "execution_count": 4,
   "metadata": {},
   "outputs": [
    {
     "output_type": "stream",
     "name": "stdout",
     "text": [
      "ModelProfile(name=\"houses_cheap\", version=\"0.0.1\"\n"
     ]
    },
    {
     "output_type": "execute_result",
     "data": {
      "text/plain": [
       "{'mssubclass': IntComponent(name=mssubclass, extractor=ElementExtractor(element=MSSubClass)),\n",
       " 'mszoning': CategoricComponent(name=mszoning, extractor=ElementExtractor(element=MSZoning)),\n",
       " 'lotfrontage': FloatComponent(name=lotfrontage, extractor=ElementExtractor(element=LotFrontage)),\n",
       " 'lotarea': IntComponent(name=lotarea, extractor=ElementExtractor(element=LotArea)),\n",
       " 'street': CategoricComponent(name=street, extractor=ElementExtractor(element=Street)),\n",
       " 'alley': CategoricComponent(name=alley, extractor=ElementExtractor(element=Alley)),\n",
       " 'lotshape': CategoricComponent(name=lotshape, extractor=ElementExtractor(element=LotShape)),\n",
       " 'landcontour': CategoricComponent(name=landcontour, extractor=ElementExtractor(element=LandContour)),\n",
       " 'utilities': CategoricComponent(name=utilities, extractor=ElementExtractor(element=Utilities)),\n",
       " 'lotconfig': CategoricComponent(name=lotconfig, extractor=ElementExtractor(element=LotConfig)),\n",
       " 'landslope': CategoricComponent(name=landslope, extractor=ElementExtractor(element=LandSlope)),\n",
       " 'neighborhood': CategoricComponent(name=neighborhood, extractor=ElementExtractor(element=Neighborhood)),\n",
       " 'condition1': CategoricComponent(name=condition1, extractor=ElementExtractor(element=Condition1)),\n",
       " 'condition2': CategoricComponent(name=condition2, extractor=ElementExtractor(element=Condition2)),\n",
       " 'bldgtype': CategoricComponent(name=bldgtype, extractor=ElementExtractor(element=BldgType)),\n",
       " 'housestyle': CategoricComponent(name=housestyle, extractor=ElementExtractor(element=HouseStyle)),\n",
       " 'overallqual': IntComponent(name=overallqual, extractor=ElementExtractor(element=OverallQual)),\n",
       " 'overallcond': IntComponent(name=overallcond, extractor=ElementExtractor(element=OverallCond)),\n",
       " 'yearbuilt': IntComponent(name=yearbuilt, extractor=ElementExtractor(element=YearBuilt)),\n",
       " 'yearremodadd': IntComponent(name=yearremodadd, extractor=ElementExtractor(element=YearRemodAdd)),\n",
       " 'roofstyle': CategoricComponent(name=roofstyle, extractor=ElementExtractor(element=RoofStyle)),\n",
       " 'roofmatl': CategoricComponent(name=roofmatl, extractor=ElementExtractor(element=RoofMatl)),\n",
       " 'exterior1st': CategoricComponent(name=exterior1st, extractor=ElementExtractor(element=Exterior1st)),\n",
       " 'exterior2nd': CategoricComponent(name=exterior2nd, extractor=ElementExtractor(element=Exterior2nd)),\n",
       " 'masvnrtype': CategoricComponent(name=masvnrtype, extractor=ElementExtractor(element=MasVnrType)),\n",
       " 'masvnrarea': FloatComponent(name=masvnrarea, extractor=ElementExtractor(element=MasVnrArea)),\n",
       " 'exterqual': CategoricComponent(name=exterqual, extractor=ElementExtractor(element=ExterQual)),\n",
       " 'extercond': CategoricComponent(name=extercond, extractor=ElementExtractor(element=ExterCond)),\n",
       " 'foundation': CategoricComponent(name=foundation, extractor=ElementExtractor(element=Foundation)),\n",
       " 'bsmtqual': CategoricComponent(name=bsmtqual, extractor=ElementExtractor(element=BsmtQual)),\n",
       " 'bsmtcond': CategoricComponent(name=bsmtcond, extractor=ElementExtractor(element=BsmtCond)),\n",
       " 'bsmtexposure': CategoricComponent(name=bsmtexposure, extractor=ElementExtractor(element=BsmtExposure)),\n",
       " 'bsmtfintype1': CategoricComponent(name=bsmtfintype1, extractor=ElementExtractor(element=BsmtFinType1)),\n",
       " 'bsmtfinsf1': IntComponent(name=bsmtfinsf1, extractor=ElementExtractor(element=BsmtFinSF1)),\n",
       " 'bsmtfintype2': CategoricComponent(name=bsmtfintype2, extractor=ElementExtractor(element=BsmtFinType2)),\n",
       " 'bsmtfinsf2': IntComponent(name=bsmtfinsf2, extractor=ElementExtractor(element=BsmtFinSF2)),\n",
       " 'bsmtunfsf': IntComponent(name=bsmtunfsf, extractor=ElementExtractor(element=BsmtUnfSF)),\n",
       " 'totalbsmtsf': IntComponent(name=totalbsmtsf, extractor=ElementExtractor(element=TotalBsmtSF)),\n",
       " 'heating': CategoricComponent(name=heating, extractor=ElementExtractor(element=Heating)),\n",
       " 'heatingqc': CategoricComponent(name=heatingqc, extractor=ElementExtractor(element=HeatingQC)),\n",
       " 'centralair': CategoricComponent(name=centralair, extractor=ElementExtractor(element=CentralAir)),\n",
       " 'electrical': CategoricComponent(name=electrical, extractor=ElementExtractor(element=Electrical)),\n",
       " '1stflrsf': IntComponent(name=1stflrsf, extractor=ElementExtractor(element=1stFlrSF)),\n",
       " '2ndflrsf': IntComponent(name=2ndflrsf, extractor=ElementExtractor(element=2ndFlrSF)),\n",
       " 'lowqualfinsf': IntComponent(name=lowqualfinsf, extractor=ElementExtractor(element=LowQualFinSF)),\n",
       " 'grlivarea': IntComponent(name=grlivarea, extractor=ElementExtractor(element=GrLivArea)),\n",
       " 'bsmtfullbath': IntComponent(name=bsmtfullbath, extractor=ElementExtractor(element=BsmtFullBath)),\n",
       " 'bsmthalfbath': IntComponent(name=bsmthalfbath, extractor=ElementExtractor(element=BsmtHalfBath)),\n",
       " 'fullbath': IntComponent(name=fullbath, extractor=ElementExtractor(element=FullBath)),\n",
       " 'halfbath': IntComponent(name=halfbath, extractor=ElementExtractor(element=HalfBath)),\n",
       " 'bedroomabvgr': IntComponent(name=bedroomabvgr, extractor=ElementExtractor(element=BedroomAbvGr)),\n",
       " 'kitchenabvgr': IntComponent(name=kitchenabvgr, extractor=ElementExtractor(element=KitchenAbvGr)),\n",
       " 'kitchenqual': CategoricComponent(name=kitchenqual, extractor=ElementExtractor(element=KitchenQual)),\n",
       " 'totrmsabvgrd': IntComponent(name=totrmsabvgrd, extractor=ElementExtractor(element=TotRmsAbvGrd)),\n",
       " 'functional': CategoricComponent(name=functional, extractor=ElementExtractor(element=Functional)),\n",
       " 'fireplaces': IntComponent(name=fireplaces, extractor=ElementExtractor(element=Fireplaces)),\n",
       " 'fireplacequ': CategoricComponent(name=fireplacequ, extractor=ElementExtractor(element=FireplaceQu)),\n",
       " 'garagetype': CategoricComponent(name=garagetype, extractor=ElementExtractor(element=GarageType)),\n",
       " 'garageyrblt': FloatComponent(name=garageyrblt, extractor=ElementExtractor(element=GarageYrBlt)),\n",
       " 'garagefinish': CategoricComponent(name=garagefinish, extractor=ElementExtractor(element=GarageFinish)),\n",
       " 'garagecars': IntComponent(name=garagecars, extractor=ElementExtractor(element=GarageCars)),\n",
       " 'garagearea': IntComponent(name=garagearea, extractor=ElementExtractor(element=GarageArea)),\n",
       " 'garagequal': CategoricComponent(name=garagequal, extractor=ElementExtractor(element=GarageQual)),\n",
       " 'garagecond': CategoricComponent(name=garagecond, extractor=ElementExtractor(element=GarageCond)),\n",
       " 'paveddrive': CategoricComponent(name=paveddrive, extractor=ElementExtractor(element=PavedDrive)),\n",
       " 'wooddecksf': IntComponent(name=wooddecksf, extractor=ElementExtractor(element=WoodDeckSF)),\n",
       " 'openporchsf': IntComponent(name=openporchsf, extractor=ElementExtractor(element=OpenPorchSF)),\n",
       " 'enclosedporch': IntComponent(name=enclosedporch, extractor=ElementExtractor(element=EnclosedPorch)),\n",
       " '3ssnporch': IntComponent(name=3ssnporch, extractor=ElementExtractor(element=3SsnPorch)),\n",
       " 'screenporch': IntComponent(name=screenporch, extractor=ElementExtractor(element=ScreenPorch)),\n",
       " 'poolarea': IntComponent(name=poolarea, extractor=ElementExtractor(element=PoolArea)),\n",
       " 'poolqc': CategoricComponent(name=poolqc, extractor=ElementExtractor(element=PoolQC)),\n",
       " 'fence': CategoricComponent(name=fence, extractor=ElementExtractor(element=Fence)),\n",
       " 'miscfeature': CategoricComponent(name=miscfeature, extractor=ElementExtractor(element=MiscFeature)),\n",
       " 'miscval': IntComponent(name=miscval, extractor=ElementExtractor(element=MiscVal)),\n",
       " 'mosold': IntComponent(name=mosold, extractor=ElementExtractor(element=MoSold)),\n",
       " 'yrsold': IntComponent(name=yrsold, extractor=ElementExtractor(element=YrSold)),\n",
       " 'saletype': CategoricComponent(name=saletype, extractor=ElementExtractor(element=SaleType)),\n",
       " 'salecondition': CategoricComponent(name=salecondition, extractor=ElementExtractor(element=SaleCondition)),\n",
       " 'saleprice': IntComponent(name=saleprice, extractor=ElementExtractor(element=SalePrice))}"
      ]
     },
     "metadata": {},
     "execution_count": 4
    }
   ],
   "source": [
    "from raymon.profiling.extractors.structured import generate_components\n",
    "\n",
    "profile = ModelProfile(\n",
    "    name=\"houses_cheap\", \n",
    "    version=\"0.0.1\", \n",
    "    input_components=generate_components(all_data.dtypes),\n",
    "    )\n",
    "print(profile)\n",
    "profile.input_components"
   ]
  },
  {
   "source": [
    "## Building the Profile\n",
    "\n",
    "Now that we have defined how the data looks like, we can build the profile. This will build stats for all registered components.\n"
   ],
   "cell_type": "markdown",
   "metadata": {}
  },
  {
   "cell_type": "code",
   "execution_count": 5,
   "metadata": {},
   "outputs": [],
   "source": [
    "profile.build(input=all_data, silent=False)\n",
    "\n",
    "#Let's also save it for later use.\n",
    "profile.save(\"houses-cheap-built.json\")"
   ]
  },
  {
   "source": [
    "## Inspecting the schema\n",
    "RDV offers toolign to inspect the schema's that are built. Let's laod the schema (just because we can) and inspect it."
   ],
   "cell_type": "markdown",
   "metadata": {}
  },
  {
   "cell_type": "code",
   "execution_count": 13,
   "metadata": {},
   "outputs": [
    {
     "output_type": "execute_result",
     "data": {
      "text/plain": [
       "<IPython.lib.display.IFrame at 0x7faf9cc02070>"
      ],
      "text/html": "\n        <iframe\n            width=\"1000\"\n            height=\"1000\"\n            src=\".tmpolo9goaq/view/schema.html\"\n            frameborder=\"0\"\n            allowfullscreen\n        ></iframe>\n        "
     },
     "metadata": {},
     "execution_count": 13
    }
   ],
   "source": [
    "from IPython.display import IFrame\n",
    "\n",
    "profile = ModelProfile.load(\"houses-cheap-built.json\")\n",
    "IFrame(src=profile.view(outdir=\".\"), width=1000, height=1000)"
   ]
  },
  {
   "source": [
    "Alternatively, we can plot a certain point of interest (poi) on the profile, to see how it compares to the training distributions. We can also specify that we want to show the profile in a new broser window."
   ],
   "cell_type": "markdown",
   "metadata": {}
  },
  {
   "source": [
    "profile.view(poi=all_data.iloc[2, :], mode=\"external\")"
   ],
   "cell_type": "markdown",
   "metadata": {}
  },
  {
   "source": [
    "## Validating new data\n",
    "To use the data profile to check incomping data in your production system, simply load it from JSON and call `validate_input(data)`. This will output tags that can be used as metric in any monitoring platform, but they integrate perticularly well with [Raymon.ai](https://raymon.ai)"
   ],
   "cell_type": "markdown",
   "metadata": {}
  },
  {
   "cell_type": "code",
   "execution_count": 7,
   "metadata": {},
   "outputs": [
    {
     "output_type": "execute_result",
     "data": {
      "text/plain": [
       "[{'type': 'profile-input',\n",
       "  'name': 'mssubclass',\n",
       "  'value': 60,\n",
       "  'group': 'houses_cheap@0.0.1'},\n",
       " {'type': 'profile-input',\n",
       "  'name': 'mszoning',\n",
       "  'value': 'RL',\n",
       "  'group': 'houses_cheap@0.0.1'},\n",
       " {'type': 'profile-input',\n",
       "  'name': 'lotfrontage',\n",
       "  'value': 62.0,\n",
       "  'group': 'houses_cheap@0.0.1'},\n",
       " {'type': 'profile-input',\n",
       "  'name': 'lotarea',\n",
       "  'value': 7917,\n",
       "  'group': 'houses_cheap@0.0.1'},\n",
       " {'type': 'profile-input',\n",
       "  'name': 'street',\n",
       "  'value': 'Pave',\n",
       "  'group': 'houses_cheap@0.0.1'},\n",
       " {'type': 'profile-input-error',\n",
       "  'name': 'alley-err',\n",
       "  'value': 'Value NaN',\n",
       "  'group': 'houses_cheap@0.0.1'},\n",
       " {'type': 'profile-input',\n",
       "  'name': 'lotshape',\n",
       "  'value': 'Reg',\n",
       "  'group': 'houses_cheap@0.0.1'},\n",
       " {'type': 'profile-input',\n",
       "  'name': 'landcontour',\n",
       "  'value': 'Lvl',\n",
       "  'group': 'houses_cheap@0.0.1'},\n",
       " {'type': 'profile-input',\n",
       "  'name': 'utilities',\n",
       "  'value': 'AllPub',\n",
       "  'group': 'houses_cheap@0.0.1'},\n",
       " {'type': 'profile-input',\n",
       "  'name': 'lotconfig',\n",
       "  'value': 'Inside',\n",
       "  'group': 'houses_cheap@0.0.1'}]"
      ]
     },
     "metadata": {},
     "execution_count": 7
    }
   ],
   "source": [
    "row = all_data.iloc[-1, :]\n",
    "tags = profile.validate_input(row)\n",
    "tags[:10]"
   ]
  },
  {
   "source": [
    "There are a few things of note here. \n",
    "First of all, all the extracted feature values are returned. This is useful for when you want to track feature distributions on your monitoring backend (which is what happens on the Raymon.ai platform). Also note that these features are not necessarily the ones going into your ML model.\n",
    "\n",
    "Secondly, the feature `Alley` gives rise to 2 tags: one being the feature (`nan`) and one being a schema error, indicating that `nan` is not a valid feature value. Raymon will also check whether the data under test is between the observed `min` and `max` during building. If this is not the case, an error tag will be added for that feature. These error tags can also be sent to your preferred monitoring solution to track the amount of faulty data in your system."
   ],
   "cell_type": "markdown",
   "metadata": {}
  },
  {
   "cell_type": "code",
   "execution_count": 8,
   "metadata": {},
   "outputs": [
    {
     "output_type": "execute_result",
     "data": {
      "text/plain": [
       "[{'type': 'profile-input-error',\n",
       "  'name': 'alley-err',\n",
       "  'value': 'Value NaN',\n",
       "  'group': 'houses_cheap@0.0.1'},\n",
       " {'type': 'profile-input',\n",
       "  'name': 'lotshape',\n",
       "  'value': 'Reg',\n",
       "  'group': 'houses_cheap@0.0.1'}]"
      ]
     },
     "metadata": {},
     "execution_count": 8
    }
   ],
   "source": [
    "tags[5:7]"
   ]
  },
  {
   "source": [
    "The output above is structured for easy integration with the Raymon.ai platform, you can also return the tags as normal objects, that can be converted to any form you like to integrate with your monitoring solution."
   ],
   "cell_type": "markdown",
   "metadata": {}
  },
  {
   "cell_type": "code",
   "execution_count": 9,
   "metadata": {},
   "outputs": [
    {
     "output_type": "execute_result",
     "data": {
      "text/plain": [
       "[Tag(name='mssubclass, value=60, type=profile-input, group=houses_cheap@0.0.1,\n",
       " Tag(name='mszoning, value=RL, type=profile-input, group=houses_cheap@0.0.1,\n",
       " Tag(name='lotfrontage, value=62.0, type=profile-input, group=houses_cheap@0.0.1,\n",
       " Tag(name='lotarea, value=7917, type=profile-input, group=houses_cheap@0.0.1,\n",
       " Tag(name='street, value=Pave, type=profile-input, group=houses_cheap@0.0.1,\n",
       " Tag(name='alley-err, value=Value NaN, type=profile-input-error, group=houses_cheap@0.0.1,\n",
       " Tag(name='lotshape, value=Reg, type=profile-input, group=houses_cheap@0.0.1,\n",
       " Tag(name='landcontour, value=Lvl, type=profile-input, group=houses_cheap@0.0.1,\n",
       " Tag(name='utilities, value=AllPub, type=profile-input, group=houses_cheap@0.0.1,\n",
       " Tag(name='lotconfig, value=Inside, type=profile-input, group=houses_cheap@0.0.1]"
      ]
     },
     "metadata": {},
     "execution_count": 9
    }
   ],
   "source": [
    "tags = profile.validate_input(row, convert_json=False)\n",
    "tags[:10]"
   ]
  },
  {
   "source": [
    "## Comparing profiles\n",
    "Testing for invalid feature values only says so much. Comparing distributions tells more. This is exactly what can be done with the `schema.profileecontrast` method, as illustrated below. This function will performtesteature to check whether they have the same distribution."
   ],
   "cell_type": "markdown",
   "metadata": {}
  },
  {
   "cell_type": "code",
   "execution_count": 15,
   "metadata": {},
   "outputs": [
    {
     "output_type": "stream",
     "name": "stdout",
     "text": [
      "Frontend src: /Users/kv/Raymon/Code/raymon/raymon/frontend\n"
     ]
    },
    {
     "output_type": "execute_result",
     "data": {
      "text/plain": [
       "<IPython.lib.display.IFrame at 0x7faf9cc07790>"
      ],
      "text/html": "\n        <iframe\n            width=\"1000\"\n            height=\"1000\"\n            src=\".tmp7s7hsqu0/view/schema.html\"\n            frameborder=\"0\"\n            allowfullscreen\n        ></iframe>\n        "
     },
     "metadata": {},
     "execution_count": 15
    }
   ],
   "source": [
    "import json\n",
    "exp_data = pd.read_csv(\"./data_sample/houseprices/subset-exp.csv\").drop(\"Id\", axis=\"columns\")\n",
    "profile_exp = ModelProfile(\n",
    "    name=\"houses_exp\", \n",
    "    version=\"0.0.1\", \n",
    "    input_components=generate_components(exp_data.dtypes),\n",
    "    )\n",
    "profile_exp.build(input=exp_data)\n",
    "\n",
    "IFrame(src=profile.view_contrast(profile_exp, outdir=\".\"), width=1000, height=1000)\n"
   ]
  },
  {
   "cell_type": "code",
   "execution_count": 11,
   "metadata": {},
   "outputs": [
    {
     "output_type": "stream",
     "name": "stdout",
     "text": [
      "mssubclass\nmszoning\nlotfrontage\nlotarea\nstreet\nalley\nlotshape\nlandcontour\nutilities\nlotconfig\nlandslope\nneighborhood\ncondition1\ncondition2\nbldgtype\nhousestyle\noverallqual\noverallcond\nyearbuilt\nyearremodadd\nroofstyle\nroofmatl\nexterior1st\nexterior2nd\nmasvnrtype\nmasvnrarea\nexterqual\nextercond\nfoundation\nbsmtqual\nbsmtcond\nbsmtexposure\nbsmtfintype1\nbsmtfinsf1\nbsmtfintype2\nbsmtfinsf2\nbsmtunfsf\ntotalbsmtsf\nheating\nheatingqc\ncentralair\nelectrical\n1stflrsf\n2ndflrsf\nlowqualfinsf\ngrlivarea\nbsmtfullbath\nbsmthalfbath\nfullbath\nhalfbath\nbedroomabvgr\nkitchenabvgr\nkitchenqual\ntotrmsabvgrd\nfunctional\nfireplaces\nfireplacequ\ngaragetype\ngarageyrblt\ngaragefinish\ngaragecars\ngaragearea\ngaragequal\ngaragecond\npaveddrive\nwooddecksf\nopenporchsf\nenclosedporch\n3ssnporch\nscreenporch\npoolarea\npoolqc\nfence\nmiscfeature\nmiscval\nmosold\nyrsold\nsaletype\nsalecondition\nsaleprice\n"
     ]
    }
   ],
   "source": [
    "contrast_report = profile.contrast(profile_exp)\n",
    "\n",
    "with open('contrast.json', 'w') as f:\n",
    "    json.dump(contrast_report, f, indent=4)"
   ]
  },
  {
   "source": [
    "As we can see, most features have a different distriution between those 2 schemas. This is as expected: one is built for houses on the cheap end of the price spectrum, the other on houses on the expensive end. Finding out about such distribution shifts is important to be able to maintain reliable ML systems.\n",
    "\n",
    "Note: comparing schemas like this is exactly what we do on the Raymon.ai backend."
   ],
   "cell_type": "markdown",
   "metadata": {}
  },
  {
   "source": [
    "As a sanity check, we can sample the same dataframe twice and see whether there are distribution changes detected."
   ],
   "cell_type": "markdown",
   "metadata": {}
  },
  {
   "cell_type": "code",
   "execution_count": 12,
   "metadata": {},
   "outputs": [
    {
     "output_type": "error",
     "ename": "NameError",
     "evalue": "name 'construct_features' is not defined",
     "traceback": [
      "\u001b[0;31m---------------------------------------------------------------------------\u001b[0m",
      "\u001b[0;31mNameError\u001b[0m                                 Traceback (most recent call last)",
      "\u001b[0;32m<ipython-input-12-7d072dd83ead>\u001b[0m in \u001b[0;36m<module>\u001b[0;34m\u001b[0m\n\u001b[1;32m      4\u001b[0m s1schema = ModelProfile(\n\u001b[1;32m      5\u001b[0m     \u001b[0mname\u001b[0m\u001b[0;34m=\u001b[0m\u001b[0;34m\"s1\"\u001b[0m\u001b[0;34m,\u001b[0m\u001b[0;34m\u001b[0m\u001b[0;34m\u001b[0m\u001b[0m\n\u001b[0;32m----> 6\u001b[0;31m     \u001b[0mfeatures\u001b[0m\u001b[0;34m=\u001b[0m\u001b[0mconstruct_features\u001b[0m\u001b[0;34m(\u001b[0m\u001b[0mall_data\u001b[0m\u001b[0;34m.\u001b[0m\u001b[0mdtypes\u001b[0m\u001b[0;34m)\u001b[0m\u001b[0;34m\u001b[0m\u001b[0;34m\u001b[0m\u001b[0m\n\u001b[0m\u001b[1;32m      7\u001b[0m     )\n\u001b[1;32m      8\u001b[0m \u001b[0;34m\u001b[0m\u001b[0m\n",
      "\u001b[0;31mNameError\u001b[0m: name 'construct_features' is not defined"
     ]
    }
   ],
   "source": [
    "dfs1 = exp_data.sample(frac=0.6)\n",
    "dfs2 = exp_data.sample(frac=0.6)\n",
    "\n",
    "s1schema = ModelProfile(\n",
    "    name=\"s1\", \n",
    "    features=construct_features(all_data.dtypes)\n",
    "    )\n",
    "\n",
    "s2schema = ModelProfile(\n",
    "name=\"s1\", \n",
    "features=construct_features(all_data.dtypes)\n",
    ")\n",
    "    \n",
    "s1schema.build(dfs1)\n",
    "s2schema.build(dfs2)\n",
    "\n",
    "s1schema.contrast(s2schema, mode=\"external\")\n",
    "\n"
   ]
  },
  {
   "cell_type": "code",
   "execution_count": 13,
   "metadata": {},
   "outputs": [
    {
     "output_type": "error",
     "ename": "NameError",
     "evalue": "name 'fpath' is not defined",
     "traceback": [
      "\u001b[0;31m---------------------------------------------------------------------------\u001b[0m",
      "\u001b[0;31mNameError\u001b[0m                                 Traceback (most recent call last)",
      "\u001b[0;32m<ipython-input-13-400c766af284>\u001b[0m in \u001b[0;36m<module>\u001b[0;34m\u001b[0m\n\u001b[0;32m----> 1\u001b[0;31m \u001b[0mfpath\u001b[0m\u001b[0;34m\u001b[0m\u001b[0;34m\u001b[0m\u001b[0m\n\u001b[0m",
      "\u001b[0;31mNameError\u001b[0m: name 'fpath' is not defined"
     ]
    }
   ],
   "source": []
  },
  {
   "cell_type": "code",
   "execution_count": 14,
   "metadata": {},
   "outputs": [],
   "source": []
  },
  {
   "cell_type": "code",
   "execution_count": null,
   "metadata": {},
   "outputs": [],
   "source": []
  }
 ]
}