{
 "cells": [
  {
   "cell_type": "markdown",
   "source": [
    "# Basic Examples: communicating through the API\n"
   ],
   "metadata": {}
  },
  {
   "cell_type": "code",
   "execution_count": null,
   "source": [
    "import raymon\n",
    "from raymon import RaymonAPI\n",
    "\n",
    "api = RaymonAPI(url=\"https://api.raymon.ai/v0\")"
   ],
   "outputs": [],
   "metadata": {}
  },
  {
   "cell_type": "markdown",
   "source": [
    "## Creating or searching a project\n",
    "Using `api.project_search`, you can look up the project_id given a project name. `api.project_create` allows you to create a new project."
   ],
   "metadata": {}
  },
  {
   "cell_type": "code",
   "execution_count": null,
   "source": [
    "project_id = None\n",
    "resp = api.project_search(project_name=\"raymon-tutorials\")\n",
    "if resp.ok:\n",
    "    print(f\"Project found\")\n",
    "    project_id = resp.json()[\"project_id\"]\n",
    "else:\n",
    "    print(f\"Creating new project\")\n",
    "    resp = api.project_create(project_name=\"raymon-tutorials\")\n",
    "    project = resp.json()\n",
    "    project_id = project[\"project_id\"]\n",
    "\n",
    "print(f\"Project ID: {project_id}\")"
   ],
   "outputs": [],
   "metadata": {}
  },
  {
   "cell_type": "markdown",
   "source": [
    "## Logging to the project using the API logger\n",
    "In the code snippet below, we create an `RaymonAPILogger` logger first, and then pass it as a parameter when constructing a `Trace` object. We do not pass a `trace_id`, which means a `uuid` will be auto generated. If you alreay have a `uuid`, you can pass it as `trace_id`."
   ],
   "metadata": {}
  },
  {
   "cell_type": "code",
   "execution_count": null,
   "source": [
    "from raymon import Trace, RaymonAPILogger\n",
    "\n",
    "logger = RaymonAPILogger(project_id=project_id, batch_size=4)\n",
    "\n",
    "trace = Trace(logger=logger, trace_id=None) "
   ],
   "outputs": [],
   "metadata": {}
  },
  {
   "cell_type": "markdown",
   "source": [
    "## Logging text\n",
    "You can use the trace like any other logger to log info text messages, as shown below."
   ],
   "metadata": {}
  },
  {
   "cell_type": "code",
   "execution_count": null,
   "source": [
    "trace.info(\"You can log whatever you want here\")"
   ],
   "outputs": [],
   "metadata": {}
  },
  {
   "cell_type": "markdown",
   "source": [
    "## Logging tags\n",
    "It is also possible to attach tags to a given data trace. Tags have a `name`, a `value`, a `type` and an optional tag `group`. Tags can be passed as a list of dicts with the aforementioned keys, or you can use the `raymon.Tag` object.\n",
    "\n",
    "Tags can be any metric, label or metadata you want to attach to the trace. The Raymon backend allows you to filter data based on these tags and aggregates tags into metrics."
   ],
   "metadata": {}
  },
  {
   "cell_type": "code",
   "execution_count": null,
   "source": [
    "from raymon import Tag\n",
    "\n",
    "tags = [\n",
    "    # Using a dict\n",
    "    {\n",
    "        \"name\": \"client\",\n",
    "        \"value\": \"bigshot_client\",\n",
    "        \"type\": \"label\"\n",
    "    },\n",
    "    # Using the Tag ogbject\n",
    "    Tag(name=\"sdk_version\", value=\"1.4.2\", type=\"label\"),\n",
    "    Tag(name=\"prediction_time_ms\", value=\"120\", type=\"metric\")\n",
    "]\n",
    "trace.tag(tags)"
   ],
   "outputs": [],
   "metadata": {}
  },
  {
   "cell_type": "markdown",
   "source": [
    "## Logging data\n",
    "\n",
    "Raymon allows you to log data artefacts to the backend too. The artefacts have a reference that allows you to fetch them from the backend whenever you want. By default, these artefacts are simply stored, although you can do extra processing on them with some configuration in the project manifest. (Explained in other tutorials.)\n",
    "\n",
    "Raymon offers data wrappers for popular data types that will take care of serializing your data in the `raymon.types` module. Of course, you can also define your own wrappers if you need them!"
   ],
   "metadata": {}
  },
  {
   "cell_type": "code",
   "execution_count": null,
   "source": [
    "import pandas as pd\n",
    "import numpy as np\n",
    "from PIL import Image\n",
    "\n",
    "import raymon.types as rt\n",
    "\n",
    "\n",
    "img = Image.open(\"../raymon/tests/sample_data/castinginspection/def_front/cast_def_0_0.jpeg\")\n",
    "arr = np.array([[1, 2], [3, 4]])\n",
    "df = pd.DataFrame(arr, columns=['a', 'b'])\n",
    "\n",
    "trace.log(ref=\"native-reff\", data=rt.Native(\n",
    "    {\"foo\": \"bar\", \n",
    "     \"whatever\": [\"you\", \"want\"], \n",
    "     \"all_native_types\": 1}))\n",
    "trace.log(ref=\"numpy-ref\", data=rt.Numpy(arr))\n",
    "trace.log(ref=\"pandas-ref\", data=rt.DataFrame(df))\n",
    "trace.log(ref=\"image-ref\", data=rt.Image(img))\n"
   ],
   "outputs": [],
   "metadata": {}
  },
  {
   "cell_type": "code",
   "execution_count": null,
   "source": [
    "!pwd"
   ],
   "outputs": [],
   "metadata": {}
  },
  {
   "cell_type": "markdown",
   "source": [
    "## Accessing the current Trace\n",
    "You can either pass along the Trace object as a parameter in function calls, or create a new Trace object with the relevant `trace_id` anywhere you need it (meaning, you would have to pass along this `id`). Alternatively you can create a Trace object once and use `raymon.current_trace` to get it whenever you need."
   ],
   "metadata": {}
  },
  {
   "cell_type": "code",
   "execution_count": null,
   "source": [
    "trace2 = raymon.current_trace()\n",
    "trace2.trace_id"
   ],
   "outputs": [],
   "metadata": {}
  },
  {
   "cell_type": "markdown",
   "source": [
    "## Fetching data\n",
    "Using the `trace_id` and artefact `ref`, you can easlity fetch artefacts from the backend and load the data. "
   ],
   "metadata": {}
  },
  {
   "cell_type": "code",
   "execution_count": null,
   "source": [
    "resp = api.object_search(project_id=project_id, trace_id=trace.trace_id, ref=\"numpy-ref\")\n",
    "\n",
    "if not resp.ok:\n",
    "    raise Exception(\"Something wrong.\")\n",
    "\n",
    "data = resp.json()\n",
    "obj_id = data[\"obj_id\"]\n",
    "obj_data = data[\"obj_data\"]\n",
    "\n",
    "raymon_wrapped = rt.load_jcr(obj_data)\n",
    "orig = raymon_wrapped.data\n",
    "orig"
   ],
   "outputs": [],
   "metadata": {}
  },
  {
   "cell_type": "code",
   "execution_count": null,
   "source": [],
   "outputs": [],
   "metadata": {}
  },
  {
   "cell_type": "code",
   "execution_count": null,
   "source": [],
   "outputs": [],
   "metadata": {}
  }
 ],
 "metadata": {
  "interpreter": {
   "hash": "4ea7e0a8f9b7ba2be2d1295d07600a24052354a084f46d950320381593507ed8"
  },
  "kernelspec": {
   "name": "python3",
   "display_name": "Python 3.8.8 64-bit ('raymonlib': conda)"
  },
  "language_info": {
   "codemirror_mode": {
    "name": "ipython",
    "version": 3
   },
   "file_extension": ".py",
   "mimetype": "text/x-python",
   "name": "python",
   "nbconvert_exporter": "python",
   "pygments_lexer": "ipython3",
   "version": "3.8.8"
  }
 },
 "nbformat": 4,
 "nbformat_minor": 2
}