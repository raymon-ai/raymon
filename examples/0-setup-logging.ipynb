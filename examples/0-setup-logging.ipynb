{
 "cells": [
  {
   "cell_type": "markdown",
   "metadata": {},
   "source": [
    "# Basic Examples: communicating through the API\n"
   ]
  },
  {
   "cell_type": "code",
   "execution_count": 1,
   "metadata": {},
   "outputs": [
    {
     "name": "stdout",
     "output_type": "stream",
     "text": [
      "Trying to load credentials from /Users/kv/.raymon/secrets.json... Done.\n",
      "Project id is None. Cannot load m2m credentials.\n",
      "Could not login with m2m credentials. Trying user credentials.\n",
      "Loading user credential... Done.\n",
      "Token expired or about to expire. Logging in...\n",
      "Logging in...\n",
      "Login required. Please visit the following URL to authenticate: https://raymon.eu.auth0.com/activate?user_code=ZVGP-XRZR\n",
      "Login required. Please visit the following URL to authenticate: https://raymon.eu.auth0.com/activate?user_code=ZVGP-XRZR\n"
     ]
    }
   ],
   "source": [
    "import raymon\n",
    "from raymon import RaymonAPI\n",
    "\n",
    "api = RaymonAPI(url=\"https://api.raymon.ai/v0\")"
   ]
  },
  {
   "cell_type": "markdown",
   "metadata": {},
   "source": [
    "## Creating or searching a project\n",
    "Using `api.project_search`, you can look up the project_id given a project name. `api.project_create` allows you to create a new project."
   ]
  },
  {
   "cell_type": "code",
   "execution_count": 2,
   "metadata": {},
   "outputs": [
    {
     "name": "stdout",
     "output_type": "stream",
     "text": [
      "Creating new project\n",
      "Project ID: 4b1eebfd-b64a-4feb-916b-c7980fa9382a\n"
     ]
    }
   ],
   "source": [
    "project_id = None\n",
    "resp = api.project_search(project_name=\"raymon-tutorials\")\n",
    "if resp.ok:\n",
    "    print(f\"Project found\")\n",
    "    project_id = resp.json()[\"project_id\"]\n",
    "else:\n",
    "    print(f\"Creating new project\")\n",
    "    resp = api.project_create(project_name=\"raymon-tutorials\")\n",
    "    project = resp.json()\n",
    "    project_id = project[\"project_id\"]\n",
    "\n",
    "print(f\"Project ID: {project_id}\")"
   ]
  },
  {
   "cell_type": "markdown",
   "metadata": {},
   "source": [
    "## Logging to the project using the API logger\n",
    "In the code snippet below, we create an `RaymonAPILogger` logger first, and then pass it as a parameter when constructing a `Trace` object. We do not pass a `trace_id`, which means a `uuid` will be auto generated. If you alreay have a `uuid`, you can pass it as `trace_id`."
   ]
  },
  {
   "cell_type": "code",
   "execution_count": 3,
   "metadata": {},
   "outputs": [
    {
     "name": "stdout",
     "output_type": "stream",
     "text": [
      "Trying to load credentials from /Users/kv/.raymon/secrets.json... Done.\n",
      "Could not load M2M credentials. <class 'KeyError'>\n",
      "Could not login with m2m credentials. Trying user credentials.\n",
      "Loading user credential... Done.\n",
      "Token valid for 5 more hours.\n"
     ]
    }
   ],
   "source": [
    "from raymon import Trace, RaymonAPILogger\n",
    "\n",
    "logger = RaymonAPILogger(project_id=project_id)\n",
    "\n",
    "trace = Trace(logger=logger, trace_id=None) "
   ]
  },
  {
   "cell_type": "markdown",
   "metadata": {},
   "source": [
    "## Logging text\n",
    "You can use the trace like any other logger to log info text messages, as shown below."
   ]
  },
  {
   "cell_type": "code",
   "execution_count": 4,
   "metadata": {},
   "outputs": [
    {
     "name": "stdout",
     "output_type": "stream",
     "text": [
      "2021-09-14 07:46:25,980 - Raymon - 46e40209-a198-439d-b0cb-5d52acaa8662 - You can log whatever you want here\n",
      "2021-09-14 07:46:26,072 - Raymon - 46e40209-a198-439d-b0cb-5d52acaa8662 - Logged info. Status: OK\n"
     ]
    }
   ],
   "source": [
    "trace.info(\"You can log whatever you want here\")"
   ]
  },
  {
   "cell_type": "markdown",
   "metadata": {},
   "source": [
    "## Logging tags\n",
    "It is also possible to attach tags to a given data trace. Tags have a `name`, a `value`, a `type` and an optional tag `group`. Tags can be passed as a list of dicts with the aforementioned keys, or you can use the `raymon.Tag` object.\n",
    "\n",
    "Tags can be any metric, label or metadata you want to attach to the trace. The Raymon backend allows you to filter data based on these tags and aggregates tags into metrics."
   ]
  },
  {
   "cell_type": "code",
   "execution_count": 5,
   "metadata": {},
   "outputs": [
    {
     "name": "stdout",
     "output_type": "stream",
     "text": [
      "2021-09-14 07:46:27,457 - Raymon - 46e40209-a198-439d-b0cb-5d52acaa8662 - Ray tagged. Status: OK\n"
     ]
    }
   ],
   "source": [
    "from raymon import Tag\n",
    "\n",
    "tags = [\n",
    "    # Using a dict\n",
    "    {\n",
    "        \"name\": \"client\",\n",
    "        \"value\": \"bigshot_client\",\n",
    "        \"type\": \"label\"\n",
    "    },\n",
    "    # Using the Tag ogbject\n",
    "    Tag(name=\"sdk_version\", value=\"1.4.2\", type=\"label\"),\n",
    "    Tag(name=\"prediction_time_ms\", value=\"120\", type=\"metric\")\n",
    "]\n",
    "trace.tag(tags)"
   ]
  },
  {
   "cell_type": "markdown",
   "metadata": {},
   "source": [
    "## Logging data\n",
    "\n",
    "Raymon allows you to log data artefacts to the backend too. The artefacts have a reference that allows you to fetch them from the backend whenever you want. By default, these artefacts are simply stored, although you can do extra processing on them with some configuration in the project manifest. (Explained in other tutorials.)\n",
    "\n",
    "Raymon offers data wrappers for popular data types that will take care of serializing your data in the `raymon.types` module. Of course, you can also define your own wrappers if you need them!"
   ]
  },
  {
   "cell_type": "code",
   "execution_count": 8,
   "metadata": {},
   "outputs": [
    {
     "name": "stdout",
     "output_type": "stream",
     "text": [
      "2021-09-14 07:47:58,888 - Raymon - 46e40209-a198-439d-b0cb-5d52acaa8662 - Logging data at native-reff\n",
      "2021-09-14 07:47:58,940 - Raymon - 46e40209-a198-439d-b0cb-5d52acaa8662 - Data logged at native-reff. Status: OK\n",
      "2021-09-14 07:47:58,941 - Raymon - 46e40209-a198-439d-b0cb-5d52acaa8662 - Logging data at numpy-ref\n",
      "2021-09-14 07:47:58,990 - Raymon - 46e40209-a198-439d-b0cb-5d52acaa8662 - Data logged at numpy-ref. Status: OK\n",
      "2021-09-14 07:47:58,992 - Raymon - 46e40209-a198-439d-b0cb-5d52acaa8662 - Logging data at pandas-ref\n",
      "2021-09-14 07:47:59,043 - Raymon - 46e40209-a198-439d-b0cb-5d52acaa8662 - Data logged at pandas-ref. Status: OK\n",
      "2021-09-14 07:47:59,054 - Raymon - 46e40209-a198-439d-b0cb-5d52acaa8662 - Logging data at image-ref\n",
      "2021-09-14 07:47:59,105 - Raymon - 46e40209-a198-439d-b0cb-5d52acaa8662 - Data logged at image-ref. Status: OK\n"
     ]
    }
   ],
   "source": [
    "import pandas as pd\n",
    "import numpy as np\n",
    "from PIL import Image\n",
    "\n",
    "import raymon.types as rt\n",
    "\n",
    "\n",
    "img = Image.open(\"../raymon/tests/sample_data/castinginspection/def_front/cast_def_0_0.jpeg\")\n",
    "arr = np.array([[1, 2], [3, 4]])\n",
    "df = pd.DataFrame(arr, columns=['a', 'b'])\n",
    "\n",
    "trace.log(ref=\"native-reff\", data=rt.Native(\n",
    "    {\"foo\": \"bar\", \n",
    "     \"whatever\": [\"you\", \"want\"], \n",
    "     \"all_native_types\": 1}))\n",
    "trace.log(ref=\"numpy-ref\", data=rt.Numpy(arr))\n",
    "trace.log(ref=\"pandas-ref\", data=rt.DataFrame(df))\n",
    "trace.log(ref=\"image-ref\", data=rt.Image(img))\n"
   ]
  },
  {
   "cell_type": "code",
   "execution_count": 9,
   "metadata": {},
   "outputs": [
    {
     "name": "stdout",
     "output_type": "stream",
     "text": [
      "/Users/kv/Raymon/Code/raymon/examples\r\n"
     ]
    }
   ],
   "source": [
    "!pwd"
   ]
  },
  {
   "cell_type": "markdown",
   "metadata": {},
   "source": [
    "## Accessing the current Trace\n",
    "You can either pass along the Trace object as a parameter in function calls, or create a new Trace object with the relevant `trace_id` anywhere you need it (meaning, you would have to pass along this `id`). Alternatively you can create a Trace object once and use `raymon.current_trace` to get it whenever you need."
   ]
  },
  {
   "cell_type": "code",
   "execution_count": 10,
   "metadata": {},
   "outputs": [
    {
     "data": {
      "text/plain": [
       "'46e40209-a198-439d-b0cb-5d52acaa8662'"
      ]
     },
     "execution_count": 10,
     "metadata": {},
     "output_type": "execute_result"
    }
   ],
   "source": [
    "trace2 = raymon.current_trace()\n",
    "trace2.trace_id"
   ]
  },
  {
   "cell_type": "markdown",
   "metadata": {},
   "source": [
    "## Fetching data\n",
    "Using the `trace_id` and artefact `ref`, you can easlity fetch artefacts from the backend and load the data. "
   ]
  },
  {
   "cell_type": "code",
   "execution_count": 16,
   "metadata": {},
   "outputs": [
    {
     "data": {
      "text/plain": [
       "array([[1, 2],\n",
       "       [3, 4]])"
      ]
     },
     "execution_count": 16,
     "metadata": {},
     "output_type": "execute_result"
    }
   ],
   "source": [
    "resp = api.object_search(project_id=project_id, trace_id=trace.trace_id, ref=\"numpy-ref\")\n",
    "\n",
    "if not resp.ok:\n",
    "    raise Exception(\"Something wrong.\")\n",
    "\n",
    "data = resp.json()\n",
    "obj_id = data[\"obj_id\"]\n",
    "obj_data = data[\"obj_data\"]\n",
    "\n",
    "raymon_wrapped = rt.load_jcr(obj_data)\n",
    "orig = raymon_wrapped.data\n",
    "orig"
   ]
  },
  {
   "cell_type": "code",
   "execution_count": null,
   "metadata": {},
   "outputs": [],
   "source": []
  },
  {
   "cell_type": "code",
   "execution_count": null,
   "metadata": {},
   "outputs": [],
   "source": []
  }
 ],
 "metadata": {
  "interpreter": {
   "hash": "4ea7e0a8f9b7ba2be2d1295d07600a24052354a084f46d950320381593507ed8"
  },
  "kernelspec": {
   "display_name": "Python 3 (ipykernel)",
   "language": "python",
   "name": "python3"
  },
  "language_info": {
   "codemirror_mode": {
    "name": "ipython",
    "version": 3
   },
   "file_extension": ".py",
   "mimetype": "text/x-python",
   "name": "python",
   "nbconvert_exporter": "python",
   "pygments_lexer": "ipython3",
   "version": "3.8.11"
  }
 },
 "nbformat": 4,
 "nbformat_minor": 2
}
