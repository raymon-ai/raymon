{
 "cells": [
  {
   "cell_type": "markdown",
   "metadata": {},
   "source": [
    "# Building and using Profiles for structured data\n",
    "This tutorial uses the Ames Housing dataset: https://www.kaggle.com/c/house-prices-advanced-regression-techniques/overview\n",
    "\n",
    "Note that some outputs may not be working while viewing on Github since they are shown in an iframe. We recommend to clone this repo and execute the notebooks locally."
   ]
  },
  {
   "cell_type": "code",
   "execution_count": 1,
   "metadata": {},
   "outputs": [
    {
     "name": "stdout",
     "output_type": "stream",
     "text": [
      "The autoreload extension is already loaded. To reload it, use:\n",
      "  %reload_ext autoreload\n"
     ]
    }
   ],
   "source": [
    "%load_ext autoreload\n",
    "%autoreload 2\n",
    "import pandas as pd"
   ]
  },
  {
   "cell_type": "markdown",
   "metadata": {},
   "source": [
    "Let's start by reading a subset of the dataset. This subset just happens to mostly contain houses on the cheaper end of the price spectrum, which will come in handy later.\n",
    "\n",
    "See the file `./data_sample/houseprices/data_description.txt` for an explanation of what the features mean. For now, it's just important to know that this is a dataset that contains both numerical and categorial features."
   ]
  },
  {
   "cell_type": "code",
   "execution_count": 2,
   "metadata": {},
   "outputs": [
    {
     "data": {
      "text/html": [
       "<div>\n",
       "<style scoped>\n",
       "    .dataframe tbody tr th:only-of-type {\n",
       "        vertical-align: middle;\n",
       "    }\n",
       "\n",
       "    .dataframe tbody tr th {\n",
       "        vertical-align: top;\n",
       "    }\n",
       "\n",
       "    .dataframe thead th {\n",
       "        text-align: right;\n",
       "    }\n",
       "</style>\n",
       "<table border=\"1\" class=\"dataframe\">\n",
       "  <thead>\n",
       "    <tr style=\"text-align: right;\">\n",
       "      <th></th>\n",
       "      <th>MSSubClass</th>\n",
       "      <th>MSZoning</th>\n",
       "      <th>LotFrontage</th>\n",
       "      <th>LotArea</th>\n",
       "      <th>Street</th>\n",
       "      <th>Alley</th>\n",
       "      <th>LotShape</th>\n",
       "      <th>LandContour</th>\n",
       "      <th>Utilities</th>\n",
       "      <th>LotConfig</th>\n",
       "      <th>...</th>\n",
       "      <th>PoolArea</th>\n",
       "      <th>PoolQC</th>\n",
       "      <th>Fence</th>\n",
       "      <th>MiscFeature</th>\n",
       "      <th>MiscVal</th>\n",
       "      <th>MoSold</th>\n",
       "      <th>YrSold</th>\n",
       "      <th>SaleType</th>\n",
       "      <th>SaleCondition</th>\n",
       "      <th>SalePrice</th>\n",
       "    </tr>\n",
       "  </thead>\n",
       "  <tbody>\n",
       "    <tr>\n",
       "      <th>0</th>\n",
       "      <td>70</td>\n",
       "      <td>RL</td>\n",
       "      <td>60.0</td>\n",
       "      <td>9550</td>\n",
       "      <td>Pave</td>\n",
       "      <td>NaN</td>\n",
       "      <td>IR1</td>\n",
       "      <td>Lvl</td>\n",
       "      <td>AllPub</td>\n",
       "      <td>Corner</td>\n",
       "      <td>...</td>\n",
       "      <td>0</td>\n",
       "      <td>NaN</td>\n",
       "      <td>NaN</td>\n",
       "      <td>NaN</td>\n",
       "      <td>0</td>\n",
       "      <td>2</td>\n",
       "      <td>2006</td>\n",
       "      <td>WD</td>\n",
       "      <td>Abnorml</td>\n",
       "      <td>140000</td>\n",
       "    </tr>\n",
       "    <tr>\n",
       "      <th>1</th>\n",
       "      <td>50</td>\n",
       "      <td>RL</td>\n",
       "      <td>85.0</td>\n",
       "      <td>14115</td>\n",
       "      <td>Pave</td>\n",
       "      <td>NaN</td>\n",
       "      <td>IR1</td>\n",
       "      <td>Lvl</td>\n",
       "      <td>AllPub</td>\n",
       "      <td>Inside</td>\n",
       "      <td>...</td>\n",
       "      <td>0</td>\n",
       "      <td>NaN</td>\n",
       "      <td>MnPrv</td>\n",
       "      <td>Shed</td>\n",
       "      <td>700</td>\n",
       "      <td>10</td>\n",
       "      <td>2009</td>\n",
       "      <td>WD</td>\n",
       "      <td>Normal</td>\n",
       "      <td>143000</td>\n",
       "    </tr>\n",
       "    <tr>\n",
       "      <th>2</th>\n",
       "      <td>50</td>\n",
       "      <td>RM</td>\n",
       "      <td>51.0</td>\n",
       "      <td>6120</td>\n",
       "      <td>Pave</td>\n",
       "      <td>NaN</td>\n",
       "      <td>Reg</td>\n",
       "      <td>Lvl</td>\n",
       "      <td>AllPub</td>\n",
       "      <td>Inside</td>\n",
       "      <td>...</td>\n",
       "      <td>0</td>\n",
       "      <td>NaN</td>\n",
       "      <td>NaN</td>\n",
       "      <td>NaN</td>\n",
       "      <td>0</td>\n",
       "      <td>4</td>\n",
       "      <td>2008</td>\n",
       "      <td>WD</td>\n",
       "      <td>Abnorml</td>\n",
       "      <td>129900</td>\n",
       "    </tr>\n",
       "    <tr>\n",
       "      <th>3</th>\n",
       "      <td>190</td>\n",
       "      <td>RL</td>\n",
       "      <td>50.0</td>\n",
       "      <td>7420</td>\n",
       "      <td>Pave</td>\n",
       "      <td>NaN</td>\n",
       "      <td>Reg</td>\n",
       "      <td>Lvl</td>\n",
       "      <td>AllPub</td>\n",
       "      <td>Corner</td>\n",
       "      <td>...</td>\n",
       "      <td>0</td>\n",
       "      <td>NaN</td>\n",
       "      <td>NaN</td>\n",
       "      <td>NaN</td>\n",
       "      <td>0</td>\n",
       "      <td>1</td>\n",
       "      <td>2008</td>\n",
       "      <td>WD</td>\n",
       "      <td>Normal</td>\n",
       "      <td>118000</td>\n",
       "    </tr>\n",
       "    <tr>\n",
       "      <th>4</th>\n",
       "      <td>20</td>\n",
       "      <td>RL</td>\n",
       "      <td>70.0</td>\n",
       "      <td>11200</td>\n",
       "      <td>Pave</td>\n",
       "      <td>NaN</td>\n",
       "      <td>Reg</td>\n",
       "      <td>Lvl</td>\n",
       "      <td>AllPub</td>\n",
       "      <td>Inside</td>\n",
       "      <td>...</td>\n",
       "      <td>0</td>\n",
       "      <td>NaN</td>\n",
       "      <td>NaN</td>\n",
       "      <td>NaN</td>\n",
       "      <td>0</td>\n",
       "      <td>2</td>\n",
       "      <td>2008</td>\n",
       "      <td>WD</td>\n",
       "      <td>Normal</td>\n",
       "      <td>129500</td>\n",
       "    </tr>\n",
       "  </tbody>\n",
       "</table>\n",
       "<p>5 rows × 80 columns</p>\n",
       "</div>"
      ],
      "text/plain": [
       "   MSSubClass MSZoning  LotFrontage  LotArea Street Alley LotShape  \\\n",
       "0          70       RL         60.0     9550   Pave   NaN      IR1   \n",
       "1          50       RL         85.0    14115   Pave   NaN      IR1   \n",
       "2          50       RM         51.0     6120   Pave   NaN      Reg   \n",
       "3         190       RL         50.0     7420   Pave   NaN      Reg   \n",
       "4          20       RL         70.0    11200   Pave   NaN      Reg   \n",
       "\n",
       "  LandContour Utilities LotConfig  ... PoolArea PoolQC  Fence MiscFeature  \\\n",
       "0         Lvl    AllPub    Corner  ...        0    NaN    NaN         NaN   \n",
       "1         Lvl    AllPub    Inside  ...        0    NaN  MnPrv        Shed   \n",
       "2         Lvl    AllPub    Inside  ...        0    NaN    NaN         NaN   \n",
       "3         Lvl    AllPub    Corner  ...        0    NaN    NaN         NaN   \n",
       "4         Lvl    AllPub    Inside  ...        0    NaN    NaN         NaN   \n",
       "\n",
       "  MiscVal MoSold  YrSold  SaleType  SaleCondition  SalePrice  \n",
       "0       0      2    2006        WD        Abnorml     140000  \n",
       "1     700     10    2009        WD         Normal     143000  \n",
       "2       0      4    2008        WD        Abnorml     129900  \n",
       "3       0      1    2008        WD         Normal     118000  \n",
       "4       0      2    2008        WD         Normal     129500  \n",
       "\n",
       "[5 rows x 80 columns]"
      ]
     },
     "execution_count": 2,
     "metadata": {},
     "output_type": "execute_result"
    }
   ],
   "source": [
    "DATA_PATH = \"./data_sample/houseprices/subset-cheap.csv\"\n",
    "all_data = pd.read_csv(DATA_PATH).drop(\"Id\", axis=\"columns\")\n",
    "all_data.head(5)"
   ]
  },
  {
   "cell_type": "markdown",
   "metadata": {},
   "source": [
    "## The cumbersome way\n",
    "One (cumbersome) way to define a Profile for this dataframe is by specifying all features to be tracked manually. This is shown below for some features."
   ]
  },
  {
   "cell_type": "code",
   "execution_count": 3,
   "metadata": {},
   "outputs": [
    {
     "name": "stdout",
     "output_type": "stream",
     "text": [
      "ModelProfile(name=\"manually-defined\", version=\"0.0.1\"\n"
     ]
    },
    {
     "data": {
      "text/plain": [
       "{'mssubclass': InputComponent(name=mssubclass, dtype=FLOAT, extractor=ElementExtractor(element=MSSubClass)),\n",
       " 'mszoning': InputComponent(name=mszoning, dtype=FLOAT, extractor=ElementExtractor(element=MSZoning)),\n",
       " 'lotfrontage': InputComponent(name=lotfrontage, dtype=FLOAT, extractor=ElementExtractor(element=LotFrontage))}"
      ]
     },
     "execution_count": 3,
     "metadata": {},
     "output_type": "execute_result"
    }
   ],
   "source": [
    "from raymon import ModelProfile\n",
    "from raymon.profiling.extractors.structured import ElementExtractor\n",
    "from raymon import InputComponent\n",
    "\n",
    "profile_manual = ModelProfile(\n",
    "    # A schema needs a name and version\n",
    "    name=\"manually-defined\", \n",
    "    version=\"0.0.1\", \n",
    "    # Now, we specify the features we want to track.\n",
    "    components=[\n",
    "        InputComponent(name=\"MSSubClass\", extractor=ElementExtractor(\"MSSubClass\")),\n",
    "        InputComponent(name=\"MSZoning\", extractor=ElementExtractor(\"MSZoning\")),\n",
    "        InputComponent(name=\"LotFrontage\", extractor=ElementExtractor(\"LotFrontage\")),\n",
    "    ])\n",
    "print(profile_manual)\n",
    "profile_manual.components"
   ]
  },
  {
   "cell_type": "markdown",
   "metadata": {},
   "source": [
    "## Simplified way\n",
    "Since we simply want to extract every single feature from a feature vector in this case, the above seems needlessly cumbersome for a dataframe with 80 columns. Therefore, you can use the `generate_components` function, a shown below.\n",
    "\n",
    "If you'd want to extract another kind of feature too, like a one-hot check or a subvector norm check, you could combine both approaches into one list before passing it to the schema constructor. "
   ]
  },
  {
   "cell_type": "code",
   "execution_count": 4,
   "metadata": {},
   "outputs": [
    {
     "name": "stdout",
     "output_type": "stream",
     "text": [
      "ModelProfile(name=\"houses_cheap\", version=\"0.0.1\"\n"
     ]
    },
    {
     "data": {
      "text/plain": [
       "{'mssubclass': InputComponent(name=mssubclass, dtype=INT, extractor=ElementExtractor(element=MSSubClass)),\n",
       " 'mszoning': InputComponent(name=mszoning, dtype=CAT, extractor=ElementExtractor(element=MSZoning)),\n",
       " 'lotfrontage': InputComponent(name=lotfrontage, dtype=FLOAT, extractor=ElementExtractor(element=LotFrontage)),\n",
       " 'lotarea': InputComponent(name=lotarea, dtype=INT, extractor=ElementExtractor(element=LotArea)),\n",
       " 'street': InputComponent(name=street, dtype=CAT, extractor=ElementExtractor(element=Street)),\n",
       " 'alley': InputComponent(name=alley, dtype=CAT, extractor=ElementExtractor(element=Alley)),\n",
       " 'lotshape': InputComponent(name=lotshape, dtype=CAT, extractor=ElementExtractor(element=LotShape)),\n",
       " 'landcontour': InputComponent(name=landcontour, dtype=CAT, extractor=ElementExtractor(element=LandContour)),\n",
       " 'utilities': InputComponent(name=utilities, dtype=CAT, extractor=ElementExtractor(element=Utilities)),\n",
       " 'lotconfig': InputComponent(name=lotconfig, dtype=CAT, extractor=ElementExtractor(element=LotConfig)),\n",
       " 'landslope': InputComponent(name=landslope, dtype=CAT, extractor=ElementExtractor(element=LandSlope)),\n",
       " 'neighborhood': InputComponent(name=neighborhood, dtype=CAT, extractor=ElementExtractor(element=Neighborhood)),\n",
       " 'condition1': InputComponent(name=condition1, dtype=CAT, extractor=ElementExtractor(element=Condition1)),\n",
       " 'condition2': InputComponent(name=condition2, dtype=CAT, extractor=ElementExtractor(element=Condition2)),\n",
       " 'bldgtype': InputComponent(name=bldgtype, dtype=CAT, extractor=ElementExtractor(element=BldgType)),\n",
       " 'housestyle': InputComponent(name=housestyle, dtype=CAT, extractor=ElementExtractor(element=HouseStyle)),\n",
       " 'overallqual': InputComponent(name=overallqual, dtype=INT, extractor=ElementExtractor(element=OverallQual)),\n",
       " 'overallcond': InputComponent(name=overallcond, dtype=INT, extractor=ElementExtractor(element=OverallCond)),\n",
       " 'yearbuilt': InputComponent(name=yearbuilt, dtype=INT, extractor=ElementExtractor(element=YearBuilt)),\n",
       " 'yearremodadd': InputComponent(name=yearremodadd, dtype=INT, extractor=ElementExtractor(element=YearRemodAdd)),\n",
       " 'roofstyle': InputComponent(name=roofstyle, dtype=CAT, extractor=ElementExtractor(element=RoofStyle)),\n",
       " 'roofmatl': InputComponent(name=roofmatl, dtype=CAT, extractor=ElementExtractor(element=RoofMatl)),\n",
       " 'exterior1st': InputComponent(name=exterior1st, dtype=CAT, extractor=ElementExtractor(element=Exterior1st)),\n",
       " 'exterior2nd': InputComponent(name=exterior2nd, dtype=CAT, extractor=ElementExtractor(element=Exterior2nd)),\n",
       " 'masvnrtype': InputComponent(name=masvnrtype, dtype=CAT, extractor=ElementExtractor(element=MasVnrType)),\n",
       " 'masvnrarea': InputComponent(name=masvnrarea, dtype=FLOAT, extractor=ElementExtractor(element=MasVnrArea)),\n",
       " 'exterqual': InputComponent(name=exterqual, dtype=CAT, extractor=ElementExtractor(element=ExterQual)),\n",
       " 'extercond': InputComponent(name=extercond, dtype=CAT, extractor=ElementExtractor(element=ExterCond)),\n",
       " 'foundation': InputComponent(name=foundation, dtype=CAT, extractor=ElementExtractor(element=Foundation)),\n",
       " 'bsmtqual': InputComponent(name=bsmtqual, dtype=CAT, extractor=ElementExtractor(element=BsmtQual)),\n",
       " 'bsmtcond': InputComponent(name=bsmtcond, dtype=CAT, extractor=ElementExtractor(element=BsmtCond)),\n",
       " 'bsmtexposure': InputComponent(name=bsmtexposure, dtype=CAT, extractor=ElementExtractor(element=BsmtExposure)),\n",
       " 'bsmtfintype1': InputComponent(name=bsmtfintype1, dtype=CAT, extractor=ElementExtractor(element=BsmtFinType1)),\n",
       " 'bsmtfinsf1': InputComponent(name=bsmtfinsf1, dtype=INT, extractor=ElementExtractor(element=BsmtFinSF1)),\n",
       " 'bsmtfintype2': InputComponent(name=bsmtfintype2, dtype=CAT, extractor=ElementExtractor(element=BsmtFinType2)),\n",
       " 'bsmtfinsf2': InputComponent(name=bsmtfinsf2, dtype=INT, extractor=ElementExtractor(element=BsmtFinSF2)),\n",
       " 'bsmtunfsf': InputComponent(name=bsmtunfsf, dtype=INT, extractor=ElementExtractor(element=BsmtUnfSF)),\n",
       " 'totalbsmtsf': InputComponent(name=totalbsmtsf, dtype=INT, extractor=ElementExtractor(element=TotalBsmtSF)),\n",
       " 'heating': InputComponent(name=heating, dtype=CAT, extractor=ElementExtractor(element=Heating)),\n",
       " 'heatingqc': InputComponent(name=heatingqc, dtype=CAT, extractor=ElementExtractor(element=HeatingQC)),\n",
       " 'centralair': InputComponent(name=centralair, dtype=CAT, extractor=ElementExtractor(element=CentralAir)),\n",
       " 'electrical': InputComponent(name=electrical, dtype=CAT, extractor=ElementExtractor(element=Electrical)),\n",
       " '1stflrsf': InputComponent(name=1stflrsf, dtype=INT, extractor=ElementExtractor(element=1stFlrSF)),\n",
       " '2ndflrsf': InputComponent(name=2ndflrsf, dtype=INT, extractor=ElementExtractor(element=2ndFlrSF)),\n",
       " 'lowqualfinsf': InputComponent(name=lowqualfinsf, dtype=INT, extractor=ElementExtractor(element=LowQualFinSF)),\n",
       " 'grlivarea': InputComponent(name=grlivarea, dtype=INT, extractor=ElementExtractor(element=GrLivArea)),\n",
       " 'bsmtfullbath': InputComponent(name=bsmtfullbath, dtype=INT, extractor=ElementExtractor(element=BsmtFullBath)),\n",
       " 'bsmthalfbath': InputComponent(name=bsmthalfbath, dtype=INT, extractor=ElementExtractor(element=BsmtHalfBath)),\n",
       " 'fullbath': InputComponent(name=fullbath, dtype=INT, extractor=ElementExtractor(element=FullBath)),\n",
       " 'halfbath': InputComponent(name=halfbath, dtype=INT, extractor=ElementExtractor(element=HalfBath)),\n",
       " 'bedroomabvgr': InputComponent(name=bedroomabvgr, dtype=INT, extractor=ElementExtractor(element=BedroomAbvGr)),\n",
       " 'kitchenabvgr': InputComponent(name=kitchenabvgr, dtype=INT, extractor=ElementExtractor(element=KitchenAbvGr)),\n",
       " 'kitchenqual': InputComponent(name=kitchenqual, dtype=CAT, extractor=ElementExtractor(element=KitchenQual)),\n",
       " 'totrmsabvgrd': InputComponent(name=totrmsabvgrd, dtype=INT, extractor=ElementExtractor(element=TotRmsAbvGrd)),\n",
       " 'functional': InputComponent(name=functional, dtype=CAT, extractor=ElementExtractor(element=Functional)),\n",
       " 'fireplaces': InputComponent(name=fireplaces, dtype=INT, extractor=ElementExtractor(element=Fireplaces)),\n",
       " 'fireplacequ': InputComponent(name=fireplacequ, dtype=CAT, extractor=ElementExtractor(element=FireplaceQu)),\n",
       " 'garagetype': InputComponent(name=garagetype, dtype=CAT, extractor=ElementExtractor(element=GarageType)),\n",
       " 'garageyrblt': InputComponent(name=garageyrblt, dtype=FLOAT, extractor=ElementExtractor(element=GarageYrBlt)),\n",
       " 'garagefinish': InputComponent(name=garagefinish, dtype=CAT, extractor=ElementExtractor(element=GarageFinish)),\n",
       " 'garagecars': InputComponent(name=garagecars, dtype=INT, extractor=ElementExtractor(element=GarageCars)),\n",
       " 'garagearea': InputComponent(name=garagearea, dtype=INT, extractor=ElementExtractor(element=GarageArea)),\n",
       " 'garagequal': InputComponent(name=garagequal, dtype=CAT, extractor=ElementExtractor(element=GarageQual)),\n",
       " 'garagecond': InputComponent(name=garagecond, dtype=CAT, extractor=ElementExtractor(element=GarageCond)),\n",
       " 'paveddrive': InputComponent(name=paveddrive, dtype=CAT, extractor=ElementExtractor(element=PavedDrive)),\n",
       " 'wooddecksf': InputComponent(name=wooddecksf, dtype=INT, extractor=ElementExtractor(element=WoodDeckSF)),\n",
       " 'openporchsf': InputComponent(name=openporchsf, dtype=INT, extractor=ElementExtractor(element=OpenPorchSF)),\n",
       " 'enclosedporch': InputComponent(name=enclosedporch, dtype=INT, extractor=ElementExtractor(element=EnclosedPorch)),\n",
       " '3ssnporch': InputComponent(name=3ssnporch, dtype=INT, extractor=ElementExtractor(element=3SsnPorch)),\n",
       " 'screenporch': InputComponent(name=screenporch, dtype=INT, extractor=ElementExtractor(element=ScreenPorch)),\n",
       " 'poolarea': InputComponent(name=poolarea, dtype=INT, extractor=ElementExtractor(element=PoolArea)),\n",
       " 'poolqc': InputComponent(name=poolqc, dtype=CAT, extractor=ElementExtractor(element=PoolQC)),\n",
       " 'fence': InputComponent(name=fence, dtype=CAT, extractor=ElementExtractor(element=Fence)),\n",
       " 'miscfeature': InputComponent(name=miscfeature, dtype=CAT, extractor=ElementExtractor(element=MiscFeature)),\n",
       " 'miscval': InputComponent(name=miscval, dtype=INT, extractor=ElementExtractor(element=MiscVal)),\n",
       " 'mosold': InputComponent(name=mosold, dtype=INT, extractor=ElementExtractor(element=MoSold)),\n",
       " 'yrsold': InputComponent(name=yrsold, dtype=INT, extractor=ElementExtractor(element=YrSold)),\n",
       " 'saletype': InputComponent(name=saletype, dtype=CAT, extractor=ElementExtractor(element=SaleType)),\n",
       " 'salecondition': InputComponent(name=salecondition, dtype=CAT, extractor=ElementExtractor(element=SaleCondition)),\n",
       " 'saleprice': InputComponent(name=saleprice, dtype=INT, extractor=ElementExtractor(element=SalePrice))}"
      ]
     },
     "execution_count": 4,
     "metadata": {},
     "output_type": "execute_result"
    }
   ],
   "source": [
    "from raymon.profiling.extractors.structured import generate_components\n",
    "\n",
    "profile = ModelProfile(\n",
    "    name=\"houses_cheap\", \n",
    "    version=\"0.0.1\", \n",
    "    components=generate_components(all_data.dtypes),\n",
    "    )\n",
    "print(profile)\n",
    "profile.components"
   ]
  },
  {
   "cell_type": "markdown",
   "metadata": {},
   "source": [
    "## Building the Profile\n",
    "\n",
    "Now that we have defined how the data looks like, we can build the profile. This will build stats for all registered components.\n"
   ]
  },
  {
   "cell_type": "code",
   "execution_count": 5,
   "metadata": {},
   "outputs": [
    {
     "name": "stdout",
     "output_type": "stream",
     "text": [
      "mssubclass\n",
      "mszoning\n",
      "lotfrontage\n",
      "lotarea\n",
      "street\n",
      "alley\n",
      "lotshape\n",
      "landcontour\n",
      "utilities\n",
      "lotconfig\n",
      "landslope\n",
      "neighborhood\n",
      "condition1\n",
      "condition2\n",
      "bldgtype\n",
      "housestyle\n",
      "overallqual\n",
      "overallcond\n",
      "yearbuilt\n",
      "yearremodadd\n",
      "roofstyle\n",
      "roofmatl\n",
      "exterior1st\n",
      "exterior2nd\n",
      "masvnrtype\n",
      "masvnrarea\n",
      "exterqual\n",
      "extercond\n",
      "foundation\n",
      "bsmtqual\n",
      "bsmtcond\n",
      "bsmtexposure\n",
      "bsmtfintype1\n",
      "bsmtfinsf1\n",
      "bsmtfintype2\n",
      "bsmtfinsf2\n",
      "bsmtunfsf\n",
      "totalbsmtsf\n",
      "heating\n",
      "heatingqc\n",
      "centralair\n",
      "electrical\n",
      "1stflrsf\n",
      "2ndflrsf\n",
      "lowqualfinsf\n",
      "grlivarea\n",
      "bsmtfullbath\n",
      "bsmthalfbath\n",
      "fullbath\n",
      "halfbath\n",
      "bedroomabvgr\n",
      "kitchenabvgr\n",
      "kitchenqual\n",
      "totrmsabvgrd\n",
      "functional\n",
      "fireplaces\n",
      "fireplacequ\n",
      "garagetype\n",
      "garageyrblt\n",
      "garagefinish\n",
      "garagecars\n",
      "garagearea\n",
      "garagequal\n",
      "garagecond\n",
      "paveddrive\n",
      "wooddecksf\n",
      "openporchsf\n",
      "enclosedporch\n",
      "3ssnporch\n",
      "screenporch\n",
      "poolarea\n",
      "poolqc\n",
      "fence\n",
      "miscfeature\n",
      "miscval\n",
      "mosold\n",
      "yrsold\n",
      "saletype\n",
      "salecondition\n",
      "saleprice\n"
     ]
    }
   ],
   "source": [
    "profile.build(input=all_data, silent=False)\n",
    "\n",
    "#Let's also save it for later use.\n",
    "profile.save(\".\")"
   ]
  },
  {
   "cell_type": "markdown",
   "metadata": {},
   "source": [
    "## Inspecting the schema\n",
    "RDV offers tooling to inspect the schema's that are built. Let's load the schema (just because we can) and inspect it."
   ]
  },
  {
   "cell_type": "code",
   "execution_count": 6,
   "metadata": {},
   "outputs": [
    {
     "data": {
      "text/plain": [
       "PosixPath('/Users/kv/Raymon/Code/raymon/examples/.tmpgno7c484/schema.html')"
      ]
     },
     "execution_count": 6,
     "metadata": {},
     "output_type": "execute_result"
    }
   ],
   "source": [
    "from IPython.display import IFrame\n",
    "from pathlib import Path\n",
    "profile = ModelProfile.load(\"houses_cheap@0.0.1.json\")\n",
    "profile.view(mode='external', outdir=Path(\".\").absolute())"
   ]
  },
  {
   "cell_type": "markdown",
   "metadata": {},
   "source": [
    "Alternatively, we can plot a certain point of interest (poi) on the profile, to see how it compares to the training distributions. We can also specify that we want to show the profile in a new broser window."
   ]
  },
  {
   "cell_type": "code",
   "execution_count": 7,
   "metadata": {},
   "outputs": [
    {
     "data": {
      "text/plain": [
       "PosixPath('/var/folders/cn/ht7pqf_j1hg6l7b552dnfvrw0000gn/T/.tmp5kyk07w7/schema.html')"
      ]
     },
     "execution_count": 7,
     "metadata": {},
     "output_type": "execute_result"
    }
   ],
   "source": [
    "profile.view(poi=all_data.iloc[2, :], mode=\"external\")"
   ]
  },
  {
   "cell_type": "markdown",
   "metadata": {},
   "source": [
    "## Validating new data\n",
    "To use the data profile to check incoming data in your production system, simply load it from JSON and call `validate_input(data)`. This will output tags that can be used as metric in any monitoring platform, but they integrate perticularly well with [Raymon.ai](https://raymon.ai)"
   ]
  },
  {
   "cell_type": "code",
   "execution_count": 8,
   "metadata": {},
   "outputs": [
    {
     "data": {
      "text/plain": [
       "[{'type': 'profile-input',\n",
       "  'name': 'mssubclass',\n",
       "  'value': 60,\n",
       "  'group': 'houses_cheap@0.0.1'},\n",
       " {'type': 'profile-input',\n",
       "  'name': 'mszoning',\n",
       "  'value': 'RL',\n",
       "  'group': 'houses_cheap@0.0.1'},\n",
       " {'type': 'profile-input',\n",
       "  'name': 'lotfrontage',\n",
       "  'value': 62.0,\n",
       "  'group': 'houses_cheap@0.0.1'},\n",
       " {'type': 'profile-input',\n",
       "  'name': 'lotarea',\n",
       "  'value': 7917,\n",
       "  'group': 'houses_cheap@0.0.1'},\n",
       " {'type': 'profile-input',\n",
       "  'name': 'street',\n",
       "  'value': 'Pave',\n",
       "  'group': 'houses_cheap@0.0.1'},\n",
       " {'type': 'profile-input-error',\n",
       "  'name': 'alley-error',\n",
       "  'value': 'Value NaN',\n",
       "  'group': 'houses_cheap@0.0.1'},\n",
       " {'type': 'profile-input',\n",
       "  'name': 'lotshape',\n",
       "  'value': 'Reg',\n",
       "  'group': 'houses_cheap@0.0.1'},\n",
       " {'type': 'profile-input',\n",
       "  'name': 'landcontour',\n",
       "  'value': 'Lvl',\n",
       "  'group': 'houses_cheap@0.0.1'},\n",
       " {'type': 'profile-input',\n",
       "  'name': 'utilities',\n",
       "  'value': 'AllPub',\n",
       "  'group': 'houses_cheap@0.0.1'},\n",
       " {'type': 'profile-input',\n",
       "  'name': 'lotconfig',\n",
       "  'value': 'Inside',\n",
       "  'group': 'houses_cheap@0.0.1'}]"
      ]
     },
     "execution_count": 8,
     "metadata": {},
     "output_type": "execute_result"
    }
   ],
   "source": [
    "row = all_data.iloc[-1, :]\n",
    "tags = profile.validate_input(row)\n",
    "tags[:10]"
   ]
  },
  {
   "cell_type": "markdown",
   "metadata": {},
   "source": [
    "There are a few things of note here. \n",
    "First of all, all the extracted feature values are returned. This is useful for when you want to track feature distributions on your monitoring backend (which is what happens on the Raymon.ai platform). Also note that these features are not necessarily the ones going into your ML model.\n",
    "\n",
    "Secondly, the feature `Alley` gives rise to a profile error, indicating that `nan` is not a valid feature value. Raymon will also check whether the data under test is between the observed `min` and `max` during building. If this is not the case, an error tag will be added for that feature. These error tags can also be sent to your preferred monitoring solution to track the amount of faulty data in your system."
   ]
  },
  {
   "cell_type": "code",
   "execution_count": 9,
   "metadata": {},
   "outputs": [
    {
     "data": {
      "text/plain": [
       "[{'type': 'profile-input-error',\n",
       "  'name': 'alley-error',\n",
       "  'value': 'Value NaN',\n",
       "  'group': 'houses_cheap@0.0.1'}]"
      ]
     },
     "execution_count": 9,
     "metadata": {},
     "output_type": "execute_result"
    }
   ],
   "source": [
    "[t for t in tags if 'alley' in t[\"name\"]]"
   ]
  },
  {
   "cell_type": "code",
   "execution_count": 10,
   "metadata": {},
   "outputs": [
    {
     "data": {
      "text/plain": [
       "nan"
      ]
     },
     "execution_count": 10,
     "metadata": {},
     "output_type": "execute_result"
    }
   ],
   "source": [
    "all_data.iloc[-1][\"Alley\"]"
   ]
  },
  {
   "cell_type": "markdown",
   "metadata": {},
   "source": [
    "The output above is returned a a list of dicts. You can also return the tags as Tag objects."
   ]
  },
  {
   "cell_type": "code",
   "execution_count": 11,
   "metadata": {},
   "outputs": [
    {
     "data": {
      "text/plain": [
       "[Tag(name='mssubclass, value=60, type=profile-input, group=houses_cheap@0.0.1,\n",
       " Tag(name='mszoning, value=RL, type=profile-input, group=houses_cheap@0.0.1,\n",
       " Tag(name='lotfrontage, value=62.0, type=profile-input, group=houses_cheap@0.0.1,\n",
       " Tag(name='lotarea, value=7917, type=profile-input, group=houses_cheap@0.0.1,\n",
       " Tag(name='street, value=Pave, type=profile-input, group=houses_cheap@0.0.1,\n",
       " Tag(name='alley-error, value=Value NaN, type=profile-input-error, group=houses_cheap@0.0.1,\n",
       " Tag(name='lotshape, value=Reg, type=profile-input, group=houses_cheap@0.0.1,\n",
       " Tag(name='landcontour, value=Lvl, type=profile-input, group=houses_cheap@0.0.1,\n",
       " Tag(name='utilities, value=AllPub, type=profile-input, group=houses_cheap@0.0.1,\n",
       " Tag(name='lotconfig, value=Inside, type=profile-input, group=houses_cheap@0.0.1]"
      ]
     },
     "execution_count": 11,
     "metadata": {},
     "output_type": "execute_result"
    }
   ],
   "source": [
    "tags = profile.validate_input(row, convert_json=False)\n",
    "tags[:10]"
   ]
  },
  {
   "cell_type": "markdown",
   "metadata": {},
   "source": [
    "## Comparing profiles\n",
    "Testing for invalid feature values only says so much. Comparing distributions tells more. This is exactly what can be done with the `profile.contrast` method, as illustrated below. This function will test every component to check whether they have the same distribution."
   ]
  },
  {
   "cell_type": "code",
   "execution_count": 12,
   "metadata": {},
   "outputs": [
    {
     "data": {
      "text/plain": [
       "PosixPath('/var/folders/cn/ht7pqf_j1hg6l7b552dnfvrw0000gn/T/.tmpttkapehw/schema.html')"
      ]
     },
     "execution_count": 12,
     "metadata": {},
     "output_type": "execute_result"
    }
   ],
   "source": [
    "import json\n",
    "exp_data = pd.read_csv(\"./data_sample/houseprices/subset-exp.csv\").drop(\"Id\", axis=\"columns\")\n",
    "profile_exp = ModelProfile(\n",
    "    name=\"houses_exp\", \n",
    "    version=\"0.0.1\", \n",
    "    components=generate_components(exp_data.dtypes),\n",
    "    )\n",
    "profile_exp.build(input=exp_data)\n",
    "\n",
    "profile.view_contrast(profile_exp, mode=\"external\")\n"
   ]
  },
  {
   "cell_type": "code",
   "execution_count": 13,
   "metadata": {},
   "outputs": [],
   "source": [
    "contrast_report = profile.contrast(profile_exp)\n",
    "\n",
    "with open('contrast.json', 'w') as f:\n",
    "    json.dump(contrast_report, f, indent=4)"
   ]
  },
  {
   "cell_type": "markdown",
   "metadata": {},
   "source": [
    "As we can see, most features have a different distriution between those 2 schemas. This is as expected: one is built for houses on the cheap end of the price spectrum, the other on houses on the expensive end. Finding out about such distribution shifts is important to be able to maintain reliable ML systems.\n",
    "\n",
    "Note: comparing schemas like this is exactly what we do on the Raymon.ai backend."
   ]
  },
  {
   "cell_type": "markdown",
   "metadata": {},
   "source": [
    "As a sanity check, we can sample the same dataframe twice and see whether there are distribution changes detected."
   ]
  },
  {
   "cell_type": "code",
   "execution_count": 14,
   "metadata": {},
   "outputs": [
    {
     "data": {
      "text/plain": [
       "PosixPath('/var/folders/cn/ht7pqf_j1hg6l7b552dnfvrw0000gn/T/.tmpre535hja/schema.html')"
      ]
     },
     "execution_count": 14,
     "metadata": {},
     "output_type": "execute_result"
    }
   ],
   "source": [
    "dfs1 = exp_data.sample(frac=0.6)\n",
    "dfs2 = exp_data.sample(frac=0.6)\n",
    "\n",
    "s1schema = ModelProfile(\n",
    "    name=\"s1\", \n",
    "    components=generate_components(all_data.dtypes)\n",
    "    )\n",
    "\n",
    "s2schema = ModelProfile(\n",
    "name=\"s2\", \n",
    "components=generate_components(all_data.dtypes)\n",
    ")\n",
    "    \n",
    "s1schema.build(dfs1)\n",
    "s2schema.build(dfs2)\n",
    "\n",
    "s1schema.view_contrast(s2schema, mode=\"external\")\n",
    "\n"
   ]
  },
  {
   "cell_type": "code",
   "execution_count": null,
   "metadata": {},
   "outputs": [],
   "source": []
  },
  {
   "cell_type": "code",
   "execution_count": null,
   "metadata": {},
   "outputs": [],
   "source": []
  },
  {
   "cell_type": "code",
   "execution_count": null,
   "metadata": {},
   "outputs": [],
   "source": []
  }
 ],
 "metadata": {
  "interpreter": {
   "hash": "4ea7e0a8f9b7ba2be2d1295d07600a24052354a084f46d950320381593507ed8"
  },
  "kernelspec": {
   "display_name": "Python 3.8.8 64-bit ('raymonlib': conda)",
   "name": "python3"
  },
  "language_info": {
   "name": "python",
   "version": ""
  },
  "orig_nbformat": 2
 },
 "nbformat": 4,
 "nbformat_minor": 2
}
